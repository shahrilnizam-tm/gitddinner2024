{
 "cells": [
  {
   "cell_type": "code",
   "execution_count": 2,
   "metadata": {},
   "outputs": [
    {
     "data": {
      "text/plain": [
       "<telegram.message.Message at 0x251330b1d10>"
      ]
     },
     "execution_count": 2,
     "metadata": {},
     "output_type": "execute_result"
    }
   ],
   "source": [
    "from telegram import Bot\n",
    "\n",
    "# Replace with your bot's token\n",
    "BOT_TOKEN = '7911516558:AAFdtZX12MwOnLeopwwpwmEh7wgGts77rfk'\n",
    "# Replace with your chat group ID\n",
    "CHAT_ID = '-4679364548'\n",
    "\n",
    "# Initialize the bot\n",
    "bot = Bot(token=BOT_TOKEN)\n",
    "\n",
    "# Send a message\n",
    "message = \"Hello, this is a test message from my bot!\"\n",
    "bot.send_message(chat_id=CHAT_ID, text=message)\n"
   ]
  },
  {
   "cell_type": "code",
   "execution_count": null,
   "metadata": {},
   "outputs": [],
   "source": [
    "TOKEN = \"7911516558:AAFdtZX12MwOnLeopwwpwmEh7wgGts77rfk\"\n",
    "GROUP_CHAT_ID = \"-4679364548\""
   ]
  },
  {
   "cell_type": "code",
   "execution_count": null,
   "metadata": {},
   "outputs": [],
   "source": [
    "from telegram import Update\n",
    "from telegram.ext import Updater, CommandHandler\n",
    "\n",
    "TOKEN = \"7911516558:AAFdtZX12MwOnLeopwwpwmEh7wgGts77rfk\"  # Replace with your bot's token\n",
    "\n",
    "def chatid(update: Update, context) -> None:\n",
    "    chat_id = update.message.chat.id\n",
    "    update.message.reply_text(f\"Your chat ID is: {chat_id}\")\n",
    "\n",
    "def main():\n",
    "    updater = Updater(TOKEN, use_context=True)\n",
    "    dp = updater.dispatcher\n",
    "\n",
    "    dp.add_handler(CommandHandler('chatid', chatid))\n",
    "\n",
    "    updater.start_polling()\n",
    "    updater.idle()\n",
    "\n",
    "if __name__ == '__main__':\n",
    "    main()\n"
   ]
  },
  {
   "cell_type": "code",
   "execution_count": null,
   "metadata": {},
   "outputs": [],
   "source": []
  }
 ],
 "metadata": {
  "kernelspec": {
   "display_name": "euclinear",
   "language": "python",
   "name": "python3"
  },
  "language_info": {
   "codemirror_mode": {
    "name": "ipython",
    "version": 3
   },
   "file_extension": ".py",
   "mimetype": "text/x-python",
   "name": "python",
   "nbconvert_exporter": "python",
   "pygments_lexer": "ipython3",
   "version": "3.11.9"
  }
 },
 "nbformat": 4,
 "nbformat_minor": 2
}
